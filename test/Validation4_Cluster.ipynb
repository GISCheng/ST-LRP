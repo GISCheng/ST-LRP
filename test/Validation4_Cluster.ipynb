{
 "cells": [
  {
   "cell_type": "code",
   "execution_count": null,
   "metadata": {},
   "outputs": [],
   "source": [
    "import matplotlib.pyplot as plt\n",
    "import matplotlib\n",
    "import tensorflow as tf\n",
    "import numpy as np\n",
    "import pdb\n",
    "import scipy.io as sio\n",
    "import numpy as np\n",
    "import pandas as pd\n",
    "from pylab import rcParams\n",
    "import pickle\n",
    "import copy\n",
    "import random\n",
    "import math\n",
    "import time\n",
    "from sklearn import cluster\n",
    "\n",
    "##Input data\n",
    "\n",
    "f1 = open(\"E:/totalmean\", 'rb')\n",
    "totalvolume=pickle.load(f1)\n",
    "f1.close()"
   ]
  },
  {
   "cell_type": "code",
   "execution_count": null,
   "metadata": {},
   "outputs": [],
   "source": [
    "##Data processing\n",
    "\n",
    "#Original\n",
    "data1=np.reshape(np.array(totalvolume),(900,48))\n",
    "print(data1.shape)\n",
    "\n",
    "#Contrast experiment\n",
    "num=[16,17,18,19,20,21,22,23,24,25,26,27,28,29,30,31,32,33,34,35]\n",
    "data2=data1[:,num]\n",
    "print(data2.shape)"
   ]
  },
  {
   "cell_type": "code",
   "execution_count": null,
   "metadata": {},
   "outputs": [],
   "source": [
    "##Spectral Clustering\n",
    "\n",
    "result1=cluster.SpectralClustering(n_clusters=3,eigen_solver='arpack',affinity=\"nearest_neighbors\").fit(data1)\n",
    "result2=cluster.SpectralClustering(n_clusters=3,eigen_solver='arpack',affinity=\"nearest_neighbors\").fit(data2)"
   ]
  },
  {
   "cell_type": "code",
   "execution_count": null,
   "metadata": {
    "scrolled": true
   },
   "outputs": [],
   "source": [
    "##Print the clustering result\n",
    "\n",
    "for i in result1.labels_:\n",
    "    print(i)\n",
    "# for i in result2.labels_:\n",
    "#     print(i)"
   ]
  },
  {
   "cell_type": "code",
   "execution_count": null,
   "metadata": {},
   "outputs": [],
   "source": []
  }
 ],
 "metadata": {
  "kernelspec": {
   "display_name": "Python 3",
   "language": "python",
   "name": "python3"
  },
  "language_info": {
   "codemirror_mode": {
    "name": "ipython",
    "version": 3
   },
   "file_extension": ".py",
   "mimetype": "text/x-python",
   "name": "python",
   "nbconvert_exporter": "python",
   "pygments_lexer": "ipython3",
   "version": "3.6.5"
  }
 },
 "nbformat": 4,
 "nbformat_minor": 2
}
