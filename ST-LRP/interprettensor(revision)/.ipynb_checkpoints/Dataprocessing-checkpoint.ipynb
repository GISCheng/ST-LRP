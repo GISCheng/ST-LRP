{
 "cells": [
  {
   "cell_type": "code",
   "execution_count": 1,
   "metadata": {},
   "outputs": [],
   "source": [
    "import tensorflow as tf\n",
    "import numpy as np\n",
    "import pdb\n",
    "import scipy.io as sio\n",
    "import numpy as np\n",
    "import pandas as pd\n",
    "from pylab import rcParams\n",
    "import pickle\n",
    "import copy\n",
    "import random\n",
    "import math\n",
    "import time"
   ]
  },
  {
   "cell_type": "code",
   "execution_count": 2,
   "metadata": {},
   "outputs": [],
   "source": [
    "#363\n",
    "F0=open(\"E:/revisiondata/holiday_2_total_2016\",'rb')\n",
    "#128\n",
    "F1=open(\"E:/revisiondata/holiday_2_train_2016\",'rb')\n",
    "#100\n",
    "F2=open(\"E:/revisiondata/holiday_2_test_2016\",'rb')\n",
    "#50\n",
    "F3=open(\"E:/revisiondata/holiday_2_test_2017\",'rb')\n",
    "total=pickle.load(F0)\n",
    "train=pickle.load(F1)\n",
    "validation=pickle.load(F2)\n",
    "test=pickle.load(F3)"
   ]
  },
  {
   "cell_type": "code",
   "execution_count": 10,
   "metadata": {},
   "outputs": [],
   "source": [
    "#normalization\n",
    "tmpdata=copy.deepcopy(test)\n",
    "N=len(tmpdata)\n",
    "newdata=[]\n",
    "for i in range(N):\n",
    "    newrecord=[]\n",
    "    tmpimg=copy.deepcopy(tmpdata[i][0])\n",
    "    tmplabel=copy.deepcopy(tmpdata[i][1])\n",
    "    for a in range(len(tmpimg)):\n",
    "        for b in range(len(tmpimg[0])):\n",
    "            datasum=np.sum(np.array(tmpimg[a][b]))\n",
    "            datamean=np.mean(np.array(tmpimg[a][b]))\n",
    "            datavar=np.var(np.array(tmpimg[a][b]))\n",
    "            if(datasum==0):\n",
    "                continue\n",
    "            for c in range(len(tmpimg[a][b])):\n",
    "                tmpimg[a][b][c]=(tmpimg[a][b][c]-datamean)/datavar\n",
    "    newrecord.append(tmpimg)\n",
    "    newrecord.append(tmplabel)\n",
    "    newdata.append(newrecord)\n",
    "newdata=np.array(newdata)"
   ]
  },
  {
   "cell_type": "code",
   "execution_count": 4,
   "metadata": {},
   "outputs": [
    {
     "name": "stdout",
     "output_type": "stream",
     "text": [
      "(30, 30, 48)\n",
      "[ 3  1  2  0  2  1  0  1  1  0  0  3  2  2  4  7 14  7  7 14 16 21 22 20 15\n",
      " 27 22 21 26 11 21 24 12 22 18 27 17 13 22 13 11 28 16 12  6  7 13  6]\n",
      "[-0.11180792 -0.13760975 -0.12470883 -0.15051066 -0.12470883 -0.13760975\n",
      " -0.15051066 -0.13760975 -0.13760975 -0.15051066 -0.15051066 -0.11180792\n",
      " -0.12470883 -0.12470883 -0.09890701 -0.06020426  0.03010213 -0.06020426\n",
      " -0.06020426  0.03010213  0.05590396  0.12040853  0.13330944  0.10750762\n",
      "  0.04300305  0.19781401  0.13330944  0.12040853  0.1849131  -0.00860061\n",
      "  0.12040853  0.15911127  0.0043003   0.13330944  0.08170579  0.19781401\n",
      "  0.06880487  0.01720122  0.13330944  0.01720122 -0.00860061  0.21071493\n",
      "  0.05590396  0.0043003  -0.07310518 -0.06020426  0.01720122 -0.07310518]\n"
     ]
    }
   ],
   "source": [
    "print(np.shape(np.array(total[0][0])))\n",
    "print(np.array(total[30][0][12][11]))\n",
    "print(np.array(newdata[30][0][12][11]))"
   ]
  },
  {
   "cell_type": "code",
   "execution_count": 11,
   "metadata": {},
   "outputs": [],
   "source": [
    "W = open(\"E:/revisiondata/testnorm_2017\", 'wb')\n",
    "pickle.dump(newdata,W,True)\n",
    "W.close()"
   ]
  },
  {
   "cell_type": "code",
   "execution_count": null,
   "metadata": {},
   "outputs": [],
   "source": []
  }
 ],
 "metadata": {
  "kernelspec": {
   "display_name": "Python 3",
   "language": "python",
   "name": "python3"
  },
  "language_info": {
   "codemirror_mode": {
    "name": "ipython",
    "version": 3
   },
   "file_extension": ".py",
   "mimetype": "text/x-python",
   "name": "python",
   "nbconvert_exporter": "python",
   "pygments_lexer": "ipython3",
   "version": "3.6.5"
  }
 },
 "nbformat": 4,
 "nbformat_minor": 2
}
